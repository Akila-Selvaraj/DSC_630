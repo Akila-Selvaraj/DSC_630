{
 "cells": [
  {
   "cell_type": "code",
   "execution_count": 1,
   "id": "97578eaf",
   "metadata": {},
   "outputs": [],
   "source": [
    "# DSC 630\n",
    "# Assignment Week 3\n",
    "# Author :  Akila Selvaraj\n",
    "# Created Date : 09/06/2022\n",
    "\n",
    "# Change log\n",
    "# Author: Akila Selvaraj\n",
    "# Description : Initial version"
   ]
  },
  {
   "cell_type": "code",
   "execution_count": 2,
   "id": "981ab701",
   "metadata": {},
   "outputs": [],
   "source": [
    "import pandas as pd\n",
    "import numpy as np\n",
    "import matplotlib.pyplot as plt\n",
    "import seaborn as sns\n",
    "# generate related variables\n",
    "from numpy import mean\n",
    "from numpy import std"
   ]
  },
  {
   "cell_type": "code",
   "execution_count": 3,
   "id": "a7ad7bd9",
   "metadata": {},
   "outputs": [
    {
     "data": {
      "text/plain": [
       "<bound method DataFrame.info of    month  day  attend day_of_week opponent  temp   skies day_night cap shirt  \\\n",
       "0    APR   10   56000     Tuesday  Pirates    67  Clear        Day  NO    NO   \n",
       "1    APR   11   29729   Wednesday  Pirates    58  Cloudy     Night  NO    NO   \n",
       "2    APR   12   28328    Thursday  Pirates    57  Cloudy     Night  NO    NO   \n",
       "3    APR   13   31601      Friday   Padres    54  Cloudy     Night  NO    NO   \n",
       "4    APR   14   46549    Saturday   Padres    57  Cloudy     Night  NO    NO   \n",
       "..   ...  ...     ...         ...      ...   ...     ...       ...  ..   ...   \n",
       "76   SEP   29   40724    Saturday  Rockies    84  Cloudy     Night  NO    NO   \n",
       "77   SEP   30   35607      Sunday  Rockies    95  Clear        Day  NO    NO   \n",
       "78   OCT    1   33624      Monday   Giants    86  Clear      Night  NO    NO   \n",
       "79   OCT    2   42473     Tuesday   Giants    83  Clear      Night  NO    NO   \n",
       "80   OCT    3   34014   Wednesday   Giants    82  Cloudy     Night  NO    NO   \n",
       "\n",
       "   fireworks bobblehead  \n",
       "0         NO         NO  \n",
       "1         NO         NO  \n",
       "2         NO         NO  \n",
       "3        YES         NO  \n",
       "4         NO         NO  \n",
       "..       ...        ...  \n",
       "76        NO         NO  \n",
       "77        NO         NO  \n",
       "78        NO         NO  \n",
       "79        NO         NO  \n",
       "80        NO         NO  \n",
       "\n",
       "[81 rows x 12 columns]>"
      ]
     },
     "execution_count": 3,
     "metadata": {},
     "output_type": "execute_result"
    }
   ],
   "source": [
    "# Los Angeles Dodgers Major League Baseball (MLB) team\n",
    "dodger_df=pd.read_csv('dodgers-2022.csv')\n",
    "dodger_df.info"
   ]
  },
  {
   "cell_type": "code",
   "execution_count": 4,
   "id": "6066ec3a",
   "metadata": {},
   "outputs": [],
   "source": [
    "# Use this data to make a recommendation to management on how to improve attendance. \n",
    "# Tell a story with your analysis and clearly explain the steps you take to arrive at your conclusion. \n",
    "# This is an open-ended question, and there is no one right answer. \n",
    "# You are welcome to do additional research and/or use domain knowledge to assist your analysis, \n",
    "# but clearly state any assumptions you make."
   ]
  },
  {
   "cell_type": "code",
   "execution_count": 5,
   "id": "3c829412",
   "metadata": {},
   "outputs": [
    {
     "data": {
      "text/plain": [
       "Text(0.5, 1.0, 'Histogram of attendance')"
      ]
     },
     "execution_count": 5,
     "metadata": {},
     "output_type": "execute_result"
    },
    {
     "data": {
      "image/png": "[encoded data removed]",
      "text/plain": [
       "<Figure size 432x288 with 1 Axes>"
      ]
     },
     "metadata": {
      "needs_background": "light"
     },
     "output_type": "display_data"
    }
   ],
   "source": [
    "# Histogram of attendance\n",
    "n, bins, patches = plt.hist(x=dodger_df.attend, bins='auto', color='#0504aa',\n",
    "                            alpha=0.7, rwidth=0.85)\n",
    "plt.grid(axis='y', alpha=0.75)\n",
    "plt.xlabel('Attendance')\n",
    "plt.ylabel('Frequency')\n",
    "plt.title('Histogram of attendance')"
   ]
  },
  {
   "cell_type": "code",
   "execution_count": 6,
   "id": "ca4ff69d",
   "metadata": {},
   "outputs": [
    {
     "name": "stdout",
     "output_type": "stream",
     "text": [
      "Max_attend : 56000\n",
      "Mean_attend : 41040.07407407407\n"
     ]
    }
   ],
   "source": [
    "print(\"Max_attend :\",max(dodger_df.attend))\n",
    "print(\"Mean_attend :\",mean(dodger_df.attend))"
   ]
  },
  {
   "cell_type": "markdown",
   "id": "52682501",
   "metadata": {},
   "source": [
    "Mean of the attendance is around 40000. Maximum attendance we are trying to achieve is 56000. "
   ]
  },
  {
   "cell_type": "code",
   "execution_count": 7,
   "id": "5c8cb9f4",
   "metadata": {},
   "outputs": [
    {
     "data": {
      "text/plain": [
       "Text(0.5, 1.0, 'Histogram of temp')"
      ]
     },
     "execution_count": 7,
     "metadata": {},
     "output_type": "execute_result"
    },
    {
     "data": {
      "image/png": "[encoded data removed]",
      "text/plain": [
       "<Figure size 432x288 with 1 Axes>"
      ]
     },
     "metadata": {
      "needs_background": "light"
     },
     "output_type": "display_data"
    }
   ],
   "source": [
    "# Histogram of temperature\n",
    "n, bins, patches = plt.hist(x=dodger_df.temp, bins='auto', color='#0504aa',\n",
    "                            alpha=0.7, rwidth=0.85)\n",
    "plt.grid(axis='y', alpha=0.75)\n",
    "plt.xlabel('temp')\n",
    "plt.ylabel('Frequency')\n",
    "plt.title('Histogram of temp')"
   ]
  },
  {
   "cell_type": "markdown",
   "id": "edab9986",
   "metadata": {},
   "source": [
    "Histogram of temperature shows that distribution is high around temperature 70 to 75."
   ]
  },
  {
   "cell_type": "code",
   "execution_count": 8,
   "id": "25c4f625",
   "metadata": {},
   "outputs": [
    {
     "data": {
      "text/plain": [
       "<seaborn.axisgrid.FacetGrid at 0x16e7c0f3b50>"
      ]
     },
     "execution_count": 8,
     "metadata": {},
     "output_type": "execute_result"
    },
    {
     "data": {
      "image/png": "[encoded data removed]",
      "text/plain": [
       "<Figure size 430.375x360 with 1 Axes>"
      ]
     },
     "metadata": {
      "needs_background": "light"
     },
     "output_type": "display_data"
    }
   ],
   "source": [
    "# Checking if clear sky has any impact on attendance\n",
    "sns.relplot(x='temp', y='attend', hue='skies',  data=dodger_df) "
   ]
  },
  {
   "cell_type": "markdown",
   "id": "1ca8a7e9",
   "metadata": {},
   "source": [
    "From the above plot, it shows that attendance is little more on clear sky days than on cloudy days."
   ]
  },
  {
   "cell_type": "code",
   "execution_count": 9,
   "id": "b35241d6",
   "metadata": {},
   "outputs": [
    {
     "data": {
      "text/plain": [
       "<seaborn.axisgrid.FacetGrid at 0x16e11420160>"
      ]
     },
     "execution_count": 9,
     "metadata": {},
     "output_type": "execute_result"
    },
    {
     "data": {
      "image/png": "[encoded data removed]",
      "text/plain": [
       "<Figure size 423x360 with 1 Axes>"
      ]
     },
     "metadata": {
      "needs_background": "light"
     },
     "output_type": "display_data"
    }
   ],
   "source": [
    "#Scatter plot to check how day_night impacts the attendance\n",
    "sns.relplot(x='temp', y='attend', hue='day_night',  data=dodger_df) "
   ]
  },
  {
   "cell_type": "markdown",
   "id": "42686414",
   "metadata": {},
   "source": [
    "From the plot, it appears that people prefers to watch the match on night than on day time."
   ]
  },
  {
   "cell_type": "code",
   "execution_count": 10,
   "id": "e8537a4e",
   "metadata": {},
   "outputs": [
    {
     "name": "stdout",
     "output_type": "stream",
     "text": [
      "Mean and Standard Variation of attendance:\n",
      "mean=41040.074 \n",
      "stdv=8246.161\n"
     ]
    }
   ],
   "source": [
    "# summarize\n",
    "print('Mean and Standard Variation of attendance:\\nmean=%.3f \\nstdv=%.3f' % (mean(dodger_df.attend), std(dodger_df.attend)))"
   ]
  },
  {
   "cell_type": "code",
   "execution_count": 11,
   "id": "9826f961",
   "metadata": {},
   "outputs": [
    {
     "data": {
      "text/html": [
       "<div>\n",
       "<style scoped>\n",
       "    .dataframe tbody tr th:only-of-type {\n",
       "        vertical-align: middle;\n",
       "    }\n",
       "\n",
       "    .dataframe tbody tr th {\n",
       "        vertical-align: top;\n",
       "    }\n",
       "\n",
       "    .dataframe thead th {\n",
       "        text-align: right;\n",
       "    }\n",
       "</style>\n",
       "<table border=\"1\" class=\"dataframe\">\n",
       "  <thead>\n",
       "    <tr style=\"text-align: right;\">\n",
       "      <th></th>\n",
       "      <th>day</th>\n",
       "      <th>attend</th>\n",
       "      <th>temp</th>\n",
       "    </tr>\n",
       "  </thead>\n",
       "  <tbody>\n",
       "    <tr>\n",
       "      <th>day</th>\n",
       "      <td>1.00</td>\n",
       "      <td>0.03</td>\n",
       "      <td>-0.13</td>\n",
       "    </tr>\n",
       "    <tr>\n",
       "      <th>attend</th>\n",
       "      <td>0.03</td>\n",
       "      <td>1.00</td>\n",
       "      <td>0.10</td>\n",
       "    </tr>\n",
       "    <tr>\n",
       "      <th>temp</th>\n",
       "      <td>-0.13</td>\n",
       "      <td>0.10</td>\n",
       "      <td>1.00</td>\n",
       "    </tr>\n",
       "  </tbody>\n",
       "</table>\n",
       "</div>"
      ],
      "text/plain": [
       "         day  attend  temp\n",
       "day     1.00    0.03 -0.13\n",
       "attend  0.03    1.00  0.10\n",
       "temp   -0.13    0.10  1.00"
      ]
     },
     "execution_count": 11,
     "metadata": {},
     "output_type": "execute_result"
    }
   ],
   "source": [
    "# Correlation matrix\n",
    "cormat = dodger_df.corr()\n",
    "round(cormat,2)"
   ]
  },
  {
   "cell_type": "code",
   "execution_count": 12,
   "id": "5d9c9e90",
   "metadata": {},
   "outputs": [],
   "source": [
    "#To check if people prefers weekend to watch the games, Creating a new boolean variable for weekends"
   ]
  },
  {
   "cell_type": "code",
   "execution_count": 13,
   "id": "24adc9c3",
   "metadata": {},
   "outputs": [
    {
     "name": "stdout",
     "output_type": "stream",
     "text": [
      "  month  day  attend day_of_week opponent  temp   skies day_night cap shirt  \\\n",
      "0   APR   10   56000     Tuesday  Pirates    67  Clear        Day  NO    NO   \n",
      "1   APR   11   29729   Wednesday  Pirates    58  Cloudy     Night  NO    NO   \n",
      "2   APR   12   28328    Thursday  Pirates    57  Cloudy     Night  NO    NO   \n",
      "3   APR   13   31601      Friday   Padres    54  Cloudy     Night  NO    NO   \n",
      "4   APR   14   46549    Saturday   Padres    57  Cloudy     Night  NO    NO   \n",
      "\n",
      "  fireworks bobblehead  skies_cat  day_night_cat  weekend_days  \n",
      "0        NO         NO          0              0             0  \n",
      "1        NO         NO          1              1             0  \n",
      "2        NO         NO          1              1             0  \n",
      "3       YES         NO          1              1             1  \n",
      "4        NO         NO          1              1             1  \n"
     ]
    },
    {
     "data": {
      "text/html": [
       "<div>\n",
       "<style scoped>\n",
       "    .dataframe tbody tr th:only-of-type {\n",
       "        vertical-align: middle;\n",
       "    }\n",
       "\n",
       "    .dataframe tbody tr th {\n",
       "        vertical-align: top;\n",
       "    }\n",
       "\n",
       "    .dataframe thead th {\n",
       "        text-align: right;\n",
       "    }\n",
       "</style>\n",
       "<table border=\"1\" class=\"dataframe\">\n",
       "  <thead>\n",
       "    <tr style=\"text-align: right;\">\n",
       "      <th></th>\n",
       "      <th>day</th>\n",
       "      <th>attend</th>\n",
       "      <th>temp</th>\n",
       "      <th>skies_cat</th>\n",
       "      <th>day_night_cat</th>\n",
       "      <th>weekend_days</th>\n",
       "    </tr>\n",
       "  </thead>\n",
       "  <tbody>\n",
       "    <tr>\n",
       "      <th>day</th>\n",
       "      <td>1.000000</td>\n",
       "      <td>0.027093</td>\n",
       "      <td>-0.127612</td>\n",
       "      <td>-0.038396</td>\n",
       "      <td>-0.039828</td>\n",
       "      <td>0.183002</td>\n",
       "    </tr>\n",
       "    <tr>\n",
       "      <th>attend</th>\n",
       "      <td>0.027093</td>\n",
       "      <td>1.000000</td>\n",
       "      <td>0.098951</td>\n",
       "      <td>-0.150963</td>\n",
       "      <td>-0.043544</td>\n",
       "      <td>0.091089</td>\n",
       "    </tr>\n",
       "    <tr>\n",
       "      <th>temp</th>\n",
       "      <td>-0.127612</td>\n",
       "      <td>0.098951</td>\n",
       "      <td>1.000000</td>\n",
       "      <td>-0.316584</td>\n",
       "      <td>-0.272141</td>\n",
       "      <td>0.042513</td>\n",
       "    </tr>\n",
       "    <tr>\n",
       "      <th>skies_cat</th>\n",
       "      <td>-0.038396</td>\n",
       "      <td>-0.150963</td>\n",
       "      <td>-0.316584</td>\n",
       "      <td>1.000000</td>\n",
       "      <td>0.188903</td>\n",
       "      <td>-0.125262</td>\n",
       "    </tr>\n",
       "    <tr>\n",
       "      <th>day_night_cat</th>\n",
       "      <td>-0.039828</td>\n",
       "      <td>-0.043544</td>\n",
       "      <td>-0.272141</td>\n",
       "      <td>0.188903</td>\n",
       "      <td>1.000000</td>\n",
       "      <td>-0.303904</td>\n",
       "    </tr>\n",
       "    <tr>\n",
       "      <th>weekend_days</th>\n",
       "      <td>0.183002</td>\n",
       "      <td>0.091089</td>\n",
       "      <td>0.042513</td>\n",
       "      <td>-0.125262</td>\n",
       "      <td>-0.303904</td>\n",
       "      <td>1.000000</td>\n",
       "    </tr>\n",
       "  </tbody>\n",
       "</table>\n",
       "</div>"
      ],
      "text/plain": [
       "                    day    attend      temp  skies_cat  day_night_cat  \\\n",
       "day            1.000000  0.027093 -0.127612  -0.038396      -0.039828   \n",
       "attend         0.027093  1.000000  0.098951  -0.150963      -0.043544   \n",
       "temp          -0.127612  0.098951  1.000000  -0.316584      -0.272141   \n",
       "skies_cat     -0.038396 -0.150963 -0.316584   1.000000       0.188903   \n",
       "day_night_cat -0.039828 -0.043544 -0.272141   0.188903       1.000000   \n",
       "weekend_days   0.183002  0.091089  0.042513  -0.125262      -0.303904   \n",
       "\n",
       "               weekend_days  \n",
       "day                0.183002  \n",
       "attend             0.091089  \n",
       "temp               0.042513  \n",
       "skies_cat         -0.125262  \n",
       "day_night_cat     -0.303904  \n",
       "weekend_days       1.000000  "
      ]
     },
     "execution_count": 13,
     "metadata": {},
     "output_type": "execute_result"
    }
   ],
   "source": [
    "dodger_df['skies_cat']=dodger_df['skies'].astype('category').cat.codes\n",
    "dodger_df['day_night_cat']=dodger_df['day_night'].astype('category').cat.codes\n",
    "dodger_df['weekend_days'] = dodger_df['day_of_week'].apply(lambda x: 1 if (x == 'Friday' or x == 'Saturday' or x == 'Sunday') else 0)\n",
    "\n",
    "print(dodger_df.head())\n",
    "# df['media']=df['media'].astype('category').cat.codes\n",
    "dodger_df.corr()"
   ]
  },
  {
   "cell_type": "code",
   "execution_count": 14,
   "id": "171357b9",
   "metadata": {},
   "outputs": [
    {
     "data": {
      "text/plain": [
       "<seaborn.axisgrid.FacetGrid at 0x16e7c10eb80>"
      ]
     },
     "execution_count": 14,
     "metadata": {},
     "output_type": "execute_result"
    },
    {
     "data": {
      "image/png": "[encoded data removed]",
      "text/plain": [
       "<Figure size 441.25x360 with 1 Axes>"
      ]
     },
     "metadata": {
      "needs_background": "light"
     },
     "output_type": "display_data"
    }
   ],
   "source": [
    "# Scatter plot to check if weekend population is more\n",
    "sns.relplot(x='temp', y='attend', hue='weekend_days',  data=dodger_df) "
   ]
  },
  {
   "cell_type": "markdown",
   "id": "abf2517a",
   "metadata": {},
   "source": [
    "From the above plot, the population difference between weekend and weekdays doesn't show much difference."
   ]
  },
  {
   "cell_type": "markdown",
   "id": "e321fa3c",
   "metadata": {},
   "source": [
    "From the plots plotted, It seems that people prefers evening games when the sky is clear"
   ]
  }
 ],
 "metadata": {
  "kernelspec": {
   "display_name": "Python 3 (ipykernel)",
   "language": "python",
   "name": "python3"
  },
  "language_info": {
   "codemirror_mode": {
    "name": "ipython",
    "version": 3
   },
   "file_extension": ".py",
   "mimetype": "text/x-python",
   "name": "python",
   "nbconvert_exporter": "python",
   "pygments_lexer": "ipython3",
   "version": "3.9.12"
  }
 },
 "nbformat": 4,
 "nbformat_minor": 5
}
