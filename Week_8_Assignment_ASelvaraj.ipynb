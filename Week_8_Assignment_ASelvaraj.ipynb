{
 "cells": [
  {
   "cell_type": "code",
   "execution_count": 1,
   "id": "905c9b82",
   "metadata": {},
   "outputs": [],
   "source": [
    "# DSC 630\n",
    "# Assignment Week 8\n",
    "# Author :  Akila Selvaraj\n",
    "# Created Date : 10/19/2022\n",
    "\n",
    "# Change log\n",
    "# Author: Akila Selvaraj\n",
    "# Description : Initial version"
   ]
  },
  {
   "cell_type": "code",
   "execution_count": 2,
   "id": "260b44b4",
   "metadata": {},
   "outputs": [],
   "source": [
    "#Importing libraries\n",
    "import numpy as np\n",
    "import pandas as pd\n",
    "import datetime\n",
    "\n",
    "import matplotlib.pyplot as plt\n",
    "import seaborn as sns"
   ]
  },
  {
   "cell_type": "code",
   "execution_count": 3,
   "id": "438d5f81",
   "metadata": {},
   "outputs": [
    {
     "data": {
      "text/plain": [
       "<bound method DataFrame.info of     YEAR     JAN     FEB     MAR     APR     MAY     JUN       JUL       AUG  \\\n",
       "0   1992  146925  147223  146805  148032  149010  149800  150761.0  151067.0   \n",
       "1   1993  157555  156266  154752  158979  160605  160127  162816.0  162506.0   \n",
       "2   1994  167518  169649  172766  173106  172329  174241  174781.0  177295.0   \n",
       "3   1995  182413  179488  181013  181686  183536  186081  185431.0  186806.0   \n",
       "4   1996  189135  192266  194029  194744  196205  196136  196187.0  196218.0   \n",
       "5   1997  202371  204286  204990  203399  201699  204675  207014.0  207635.0   \n",
       "6   1998  209666  209552  210832  213633  214639  216337  214841.0  213636.0   \n",
       "7   1999  223997  226250  227417  229037  231235  231903  233948.0  236566.0   \n",
       "8   2000  243436  247133  249825  245831  246201  248160  247176.0  247576.0   \n",
       "9   2001  252654  252704  250328  254763  255218  254022  252997.0  254560.0   \n",
       "10  2002  256307  257670  257059  261333  257573  259786  262769.0  265043.0   \n",
       "11  2003  267230  263188  267820  267197  267362  270396  273352.0  277965.0   \n",
       "12  2004  278913  280932  286209  282952  288252  284133  287358.0  287941.0   \n",
       "13  2005  296696  300557  301308  303760  301776  310989  313520.0  310046.0   \n",
       "14  2006  322348  320171  320869  322561  321794  323184  324204.0  325324.0   \n",
       "15  2007  327181  327953  330579  329560  334202  331076  332342.0  334169.0   \n",
       "16  2008  337412  334584  335193  334843  337947  338311  336771.0  334045.0   \n",
       "17  2009  298673  297631  292300  293614  296501  302169  302802.0  309023.0   \n",
       "18  2010  308299  308628  316003  318707  315604  314925  315632.0  317408.0   \n",
       "19  2011  332357  334710  338007  339884  339303  341600  341373.0  342288.0   \n",
       "20  2012  352862  357379  358719  356849  356018  352043  353891.0  358450.0   \n",
       "21  2013  367009  372291  369081  367514  369493  371041  373554.0  372489.0   \n",
       "22  2014  373033  378581  382601  386689  387100  388106  388359.0  391305.0   \n",
       "23  2015  385648  385157  391420  391356  394718  395464  398193.0  398105.0   \n",
       "24  2016  394749  398105  396911  398190  400143  404756  403730.0  403968.0   \n",
       "25  2017  416081  415503  414620  416889  414540  416505  416744.0  417179.0   \n",
       "26  2018  432148  434106  433232  435610  439996  438191  440703.0  439278.0   \n",
       "27  2019  440751  439996  447167  448709  449552  450927  454012.0  456500.0   \n",
       "28  2020  460586  459610  434281  379892  444631  476343  481627.0  483716.0   \n",
       "29  2021  520162  504458  559871  562269  548987  550782       NaN       NaN   \n",
       "\n",
       "         SEP       OCT       NOV       DEC  \n",
       "0   152588.0  153521.0  153583.0  155614.0  \n",
       "1   163258.0  164685.0  166594.0  168161.0  \n",
       "2   178787.0  180561.0  180703.0  181524.0  \n",
       "3   187366.0  186565.0  189055.0  190774.0  \n",
       "4   198859.0  200509.0  200174.0  201284.0  \n",
       "5   208326.0  208078.0  208936.0  209363.0  \n",
       "6   215720.0  219483.0  221134.0  223179.0  \n",
       "7   237481.0  237553.0  240544.0  245485.0  \n",
       "8   251837.0  251221.0  250331.0  250658.0  \n",
       "9   249845.0  267999.0  260514.0  256549.0  \n",
       "10  260626.0  261953.0  263568.0  265930.0  \n",
       "11  276430.0  274764.0  278298.0  277612.0  \n",
       "12  293139.0  295115.0  296177.0  299763.0  \n",
       "13  310673.0  310479.0  313303.0  313473.0  \n",
       "14  323236.0  322678.0  323343.0  326849.0  \n",
       "15  335442.0  337530.0  341133.0  336189.0  \n",
       "16  328343.0  314830.0  301332.0  294025.0  \n",
       "17  301033.0  304154.0  306675.0  308413.0  \n",
       "18  320080.0  323900.0  327745.0  329627.0  \n",
       "19  345496.0  347924.0  349304.0  349744.0  \n",
       "20  361470.0  361991.0  362876.0  364488.0  \n",
       "21  372505.0  373663.0  373914.0  377032.0  \n",
       "22  389860.0  390506.0  391805.0  388569.0  \n",
       "23  396248.0  394503.0  396240.0  397052.0  \n",
       "24  405958.0  407395.0  406061.0  412610.0  \n",
       "25  426501.0  426933.0  431158.0  433282.0  \n",
       "26  438985.0  444038.0  445242.0  434803.0  \n",
       "27  452849.0  455486.0  457658.0  458055.0  \n",
       "28  493327.0  493991.0  488652.0  484782.0  \n",
       "29       NaN       NaN       NaN       NaN  >"
      ]
     },
     "execution_count": 3,
     "metadata": {},
     "output_type": "execute_result"
    }
   ],
   "source": [
    "# This data gives the total monthly retail sales in the US from January 1992 until June 2021. \n",
    "us_rtl_sales_df=pd.read_csv('us_retail_sales.csv')\n",
    "us_rtl_sales_df.info"
   ]
  },
  {
   "cell_type": "code",
   "execution_count": 4,
   "id": "1ae7d617",
   "metadata": {},
   "outputs": [],
   "source": [
    "# Plot the data with proper labeling and make some observations on the graph."
   ]
  },
  {
   "cell_type": "markdown",
   "id": "2417f5a7",
   "metadata": {},
   "source": [
    "Before plotting the data, we have to pivot the data for making observations."
   ]
  },
  {
   "cell_type": "code",
   "execution_count": 5,
   "id": "3dcb3328",
   "metadata": {},
   "outputs": [
    {
     "data": {
      "text/html": [
       "<div>\n",
       "<style scoped>\n",
       "    .dataframe tbody tr th:only-of-type {\n",
       "        vertical-align: middle;\n",
       "    }\n",
       "\n",
       "    .dataframe tbody tr th {\n",
       "        vertical-align: top;\n",
       "    }\n",
       "\n",
       "    .dataframe thead th {\n",
       "        text-align: right;\n",
       "    }\n",
       "</style>\n",
       "<table border=\"1\" class=\"dataframe\">\n",
       "  <thead>\n",
       "    <tr style=\"text-align: right;\">\n",
       "      <th></th>\n",
       "      <th>YEAR</th>\n",
       "      <th>Month</th>\n",
       "      <th>Value</th>\n",
       "    </tr>\n",
       "  </thead>\n",
       "  <tbody>\n",
       "    <tr>\n",
       "      <th>0</th>\n",
       "      <td>1992</td>\n",
       "      <td>JAN</td>\n",
       "      <td>146925.0</td>\n",
       "    </tr>\n",
       "    <tr>\n",
       "      <th>1</th>\n",
       "      <td>1993</td>\n",
       "      <td>JAN</td>\n",
       "      <td>157555.0</td>\n",
       "    </tr>\n",
       "    <tr>\n",
       "      <th>2</th>\n",
       "      <td>1994</td>\n",
       "      <td>JAN</td>\n",
       "      <td>167518.0</td>\n",
       "    </tr>\n",
       "    <tr>\n",
       "      <th>3</th>\n",
       "      <td>1995</td>\n",
       "      <td>JAN</td>\n",
       "      <td>182413.0</td>\n",
       "    </tr>\n",
       "    <tr>\n",
       "      <th>4</th>\n",
       "      <td>1996</td>\n",
       "      <td>JAN</td>\n",
       "      <td>189135.0</td>\n",
       "    </tr>\n",
       "    <tr>\n",
       "      <th>...</th>\n",
       "      <td>...</td>\n",
       "      <td>...</td>\n",
       "      <td>...</td>\n",
       "    </tr>\n",
       "    <tr>\n",
       "      <th>355</th>\n",
       "      <td>2017</td>\n",
       "      <td>DEC</td>\n",
       "      <td>433282.0</td>\n",
       "    </tr>\n",
       "    <tr>\n",
       "      <th>356</th>\n",
       "      <td>2018</td>\n",
       "      <td>DEC</td>\n",
       "      <td>434803.0</td>\n",
       "    </tr>\n",
       "    <tr>\n",
       "      <th>357</th>\n",
       "      <td>2019</td>\n",
       "      <td>DEC</td>\n",
       "      <td>458055.0</td>\n",
       "    </tr>\n",
       "    <tr>\n",
       "      <th>358</th>\n",
       "      <td>2020</td>\n",
       "      <td>DEC</td>\n",
       "      <td>484782.0</td>\n",
       "    </tr>\n",
       "    <tr>\n",
       "      <th>359</th>\n",
       "      <td>2021</td>\n",
       "      <td>DEC</td>\n",
       "      <td>NaN</td>\n",
       "    </tr>\n",
       "  </tbody>\n",
       "</table>\n",
       "<p>360 rows × 3 columns</p>\n",
       "</div>"
      ],
      "text/plain": [
       "     YEAR Month     Value\n",
       "0    1992   JAN  146925.0\n",
       "1    1993   JAN  157555.0\n",
       "2    1994   JAN  167518.0\n",
       "3    1995   JAN  182413.0\n",
       "4    1996   JAN  189135.0\n",
       "..    ...   ...       ...\n",
       "355  2017   DEC  433282.0\n",
       "356  2018   DEC  434803.0\n",
       "357  2019   DEC  458055.0\n",
       "358  2020   DEC  484782.0\n",
       "359  2021   DEC       NaN\n",
       "\n",
       "[360 rows x 3 columns]"
      ]
     },
     "execution_count": 5,
     "metadata": {},
     "output_type": "execute_result"
    }
   ],
   "source": [
    "# Pivoting the data\n",
    "us_rtl_sales_df = us_rtl_sales_df.melt(id_vars=[\"YEAR\"], var_name=\"Month\", value_name=\"Value\")\n",
    "us_rtl_sales_df"
   ]
  },
  {
   "cell_type": "code",
   "execution_count": 6,
   "id": "e3e5be39",
   "metadata": {},
   "outputs": [
    {
     "name": "stdout",
     "output_type": "stream",
     "text": [
      "1\n"
     ]
    }
   ],
   "source": [
    "# Converting month name to month number\n",
    "month_name = \"Jan\"\n",
    "datetime_object = datetime.datetime.strptime(month_name, \"%b\")\n",
    "month_number = datetime_object.month\n",
    "print(month_number)"
   ]
  },
  {
   "cell_type": "code",
   "execution_count": 7,
   "id": "22358e85",
   "metadata": {},
   "outputs": [],
   "source": [
    "# us_rtl_sales_df['month_num'] = datetime.datetime.strptime(us_rtl_sales_df['Month'], \"%b\").month"
   ]
  },
  {
   "cell_type": "code",
   "execution_count": 8,
   "id": "07b14eb4",
   "metadata": {},
   "outputs": [],
   "source": [
    "# ToNumber(substring(DateTimeParse([month], \"%b\"),5,2))"
   ]
  },
  {
   "cell_type": "code",
   "execution_count": 9,
   "id": "a952e4b2",
   "metadata": {},
   "outputs": [
    {
     "data": {
      "text/html": [
       "<div>\n",
       "<style scoped>\n",
       "    .dataframe tbody tr th:only-of-type {\n",
       "        vertical-align: middle;\n",
       "    }\n",
       "\n",
       "    .dataframe tbody tr th {\n",
       "        vertical-align: top;\n",
       "    }\n",
       "\n",
       "    .dataframe thead th {\n",
       "        text-align: right;\n",
       "    }\n",
       "</style>\n",
       "<table border=\"1\" class=\"dataframe\">\n",
       "  <thead>\n",
       "    <tr style=\"text-align: right;\">\n",
       "      <th></th>\n",
       "      <th>YEAR</th>\n",
       "      <th>Month</th>\n",
       "      <th>Value</th>\n",
       "      <th>month_num</th>\n",
       "    </tr>\n",
       "  </thead>\n",
       "  <tbody>\n",
       "    <tr>\n",
       "      <th>0</th>\n",
       "      <td>1992</td>\n",
       "      <td>JAN</td>\n",
       "      <td>146925.0</td>\n",
       "      <td>1</td>\n",
       "    </tr>\n",
       "    <tr>\n",
       "      <th>1</th>\n",
       "      <td>1993</td>\n",
       "      <td>JAN</td>\n",
       "      <td>157555.0</td>\n",
       "      <td>1</td>\n",
       "    </tr>\n",
       "    <tr>\n",
       "      <th>2</th>\n",
       "      <td>1994</td>\n",
       "      <td>JAN</td>\n",
       "      <td>167518.0</td>\n",
       "      <td>1</td>\n",
       "    </tr>\n",
       "    <tr>\n",
       "      <th>3</th>\n",
       "      <td>1995</td>\n",
       "      <td>JAN</td>\n",
       "      <td>182413.0</td>\n",
       "      <td>1</td>\n",
       "    </tr>\n",
       "    <tr>\n",
       "      <th>4</th>\n",
       "      <td>1996</td>\n",
       "      <td>JAN</td>\n",
       "      <td>189135.0</td>\n",
       "      <td>1</td>\n",
       "    </tr>\n",
       "    <tr>\n",
       "      <th>...</th>\n",
       "      <td>...</td>\n",
       "      <td>...</td>\n",
       "      <td>...</td>\n",
       "      <td>...</td>\n",
       "    </tr>\n",
       "    <tr>\n",
       "      <th>355</th>\n",
       "      <td>2017</td>\n",
       "      <td>DEC</td>\n",
       "      <td>433282.0</td>\n",
       "      <td>12</td>\n",
       "    </tr>\n",
       "    <tr>\n",
       "      <th>356</th>\n",
       "      <td>2018</td>\n",
       "      <td>DEC</td>\n",
       "      <td>434803.0</td>\n",
       "      <td>12</td>\n",
       "    </tr>\n",
       "    <tr>\n",
       "      <th>357</th>\n",
       "      <td>2019</td>\n",
       "      <td>DEC</td>\n",
       "      <td>458055.0</td>\n",
       "      <td>12</td>\n",
       "    </tr>\n",
       "    <tr>\n",
       "      <th>358</th>\n",
       "      <td>2020</td>\n",
       "      <td>DEC</td>\n",
       "      <td>484782.0</td>\n",
       "      <td>12</td>\n",
       "    </tr>\n",
       "    <tr>\n",
       "      <th>359</th>\n",
       "      <td>2021</td>\n",
       "      <td>DEC</td>\n",
       "      <td>NaN</td>\n",
       "      <td>12</td>\n",
       "    </tr>\n",
       "  </tbody>\n",
       "</table>\n",
       "<p>360 rows × 4 columns</p>\n",
       "</div>"
      ],
      "text/plain": [
       "     YEAR Month     Value month_num\n",
       "0    1992   JAN  146925.0         1\n",
       "1    1993   JAN  157555.0         1\n",
       "2    1994   JAN  167518.0         1\n",
       "3    1995   JAN  182413.0         1\n",
       "4    1996   JAN  189135.0         1\n",
       "..    ...   ...       ...       ...\n",
       "355  2017   DEC  433282.0        12\n",
       "356  2018   DEC  434803.0        12\n",
       "357  2019   DEC  458055.0        12\n",
       "358  2020   DEC  484782.0        12\n",
       "359  2021   DEC       NaN        12\n",
       "\n",
       "[360 rows x 4 columns]"
      ]
     },
     "execution_count": 9,
     "metadata": {},
     "output_type": "execute_result"
    }
   ],
   "source": [
    "# Converting month name to month number\n",
    "us_rtl_sales_df['month_num'] = pd.to_datetime(us_rtl_sales_df.Month, format='%b').dt.month.astype(str)\n",
    "us_rtl_sales_df"
   ]
  },
  {
   "cell_type": "code",
   "execution_count": 10,
   "id": "a0821586",
   "metadata": {},
   "outputs": [
    {
     "data": {
      "text/html": [
       "<div>\n",
       "<style scoped>\n",
       "    .dataframe tbody tr th:only-of-type {\n",
       "        vertical-align: middle;\n",
       "    }\n",
       "\n",
       "    .dataframe tbody tr th {\n",
       "        vertical-align: top;\n",
       "    }\n",
       "\n",
       "    .dataframe thead th {\n",
       "        text-align: right;\n",
       "    }\n",
       "</style>\n",
       "<table border=\"1\" class=\"dataframe\">\n",
       "  <thead>\n",
       "    <tr style=\"text-align: right;\">\n",
       "      <th></th>\n",
       "      <th>YEAR</th>\n",
       "      <th>Month</th>\n",
       "      <th>Value</th>\n",
       "      <th>month_num</th>\n",
       "    </tr>\n",
       "  </thead>\n",
       "  <tbody>\n",
       "    <tr>\n",
       "      <th>0</th>\n",
       "      <td>1992</td>\n",
       "      <td>JAN</td>\n",
       "      <td>146925.0</td>\n",
       "      <td>01</td>\n",
       "    </tr>\n",
       "    <tr>\n",
       "      <th>1</th>\n",
       "      <td>1993</td>\n",
       "      <td>JAN</td>\n",
       "      <td>157555.0</td>\n",
       "      <td>01</td>\n",
       "    </tr>\n",
       "    <tr>\n",
       "      <th>2</th>\n",
       "      <td>1994</td>\n",
       "      <td>JAN</td>\n",
       "      <td>167518.0</td>\n",
       "      <td>01</td>\n",
       "    </tr>\n",
       "    <tr>\n",
       "      <th>3</th>\n",
       "      <td>1995</td>\n",
       "      <td>JAN</td>\n",
       "      <td>182413.0</td>\n",
       "      <td>01</td>\n",
       "    </tr>\n",
       "    <tr>\n",
       "      <th>4</th>\n",
       "      <td>1996</td>\n",
       "      <td>JAN</td>\n",
       "      <td>189135.0</td>\n",
       "      <td>01</td>\n",
       "    </tr>\n",
       "    <tr>\n",
       "      <th>...</th>\n",
       "      <td>...</td>\n",
       "      <td>...</td>\n",
       "      <td>...</td>\n",
       "      <td>...</td>\n",
       "    </tr>\n",
       "    <tr>\n",
       "      <th>355</th>\n",
       "      <td>2017</td>\n",
       "      <td>DEC</td>\n",
       "      <td>433282.0</td>\n",
       "      <td>012</td>\n",
       "    </tr>\n",
       "    <tr>\n",
       "      <th>356</th>\n",
       "      <td>2018</td>\n",
       "      <td>DEC</td>\n",
       "      <td>434803.0</td>\n",
       "      <td>012</td>\n",
       "    </tr>\n",
       "    <tr>\n",
       "      <th>357</th>\n",
       "      <td>2019</td>\n",
       "      <td>DEC</td>\n",
       "      <td>458055.0</td>\n",
       "      <td>012</td>\n",
       "    </tr>\n",
       "    <tr>\n",
       "      <th>358</th>\n",
       "      <td>2020</td>\n",
       "      <td>DEC</td>\n",
       "      <td>484782.0</td>\n",
       "      <td>012</td>\n",
       "    </tr>\n",
       "    <tr>\n",
       "      <th>359</th>\n",
       "      <td>2021</td>\n",
       "      <td>DEC</td>\n",
       "      <td>NaN</td>\n",
       "      <td>012</td>\n",
       "    </tr>\n",
       "  </tbody>\n",
       "</table>\n",
       "<p>360 rows × 4 columns</p>\n",
       "</div>"
      ],
      "text/plain": [
       "     YEAR Month     Value month_num\n",
       "0    1992   JAN  146925.0        01\n",
       "1    1993   JAN  157555.0        01\n",
       "2    1994   JAN  167518.0        01\n",
       "3    1995   JAN  182413.0        01\n",
       "4    1996   JAN  189135.0        01\n",
       "..    ...   ...       ...       ...\n",
       "355  2017   DEC  433282.0       012\n",
       "356  2018   DEC  434803.0       012\n",
       "357  2019   DEC  458055.0       012\n",
       "358  2020   DEC  484782.0       012\n",
       "359  2021   DEC       NaN       012\n",
       "\n",
       "[360 rows x 4 columns]"
      ]
     },
     "execution_count": 10,
     "metadata": {},
     "output_type": "execute_result"
    }
   ],
   "source": [
    "# Appending zero the month number to create the date format\n",
    "us_rtl_sales_df['month_num'] = '0' + us_rtl_sales_df['month_num']\n",
    "us_rtl_sales_df"
   ]
  },
  {
   "cell_type": "code",
   "execution_count": 11,
   "id": "6569b1dc",
   "metadata": {},
   "outputs": [
    {
     "data": {
      "text/html": [
       "<div>\n",
       "<style scoped>\n",
       "    .dataframe tbody tr th:only-of-type {\n",
       "        vertical-align: middle;\n",
       "    }\n",
       "\n",
       "    .dataframe tbody tr th {\n",
       "        vertical-align: top;\n",
       "    }\n",
       "\n",
       "    .dataframe thead th {\n",
       "        text-align: right;\n",
       "    }\n",
       "</style>\n",
       "<table border=\"1\" class=\"dataframe\">\n",
       "  <thead>\n",
       "    <tr style=\"text-align: right;\">\n",
       "      <th></th>\n",
       "      <th>YEAR</th>\n",
       "      <th>Month</th>\n",
       "      <th>Value</th>\n",
       "      <th>month_num</th>\n",
       "    </tr>\n",
       "  </thead>\n",
       "  <tbody>\n",
       "    <tr>\n",
       "      <th>0</th>\n",
       "      <td>1992</td>\n",
       "      <td>JAN</td>\n",
       "      <td>146925.0</td>\n",
       "      <td>01</td>\n",
       "    </tr>\n",
       "    <tr>\n",
       "      <th>1</th>\n",
       "      <td>1993</td>\n",
       "      <td>JAN</td>\n",
       "      <td>157555.0</td>\n",
       "      <td>01</td>\n",
       "    </tr>\n",
       "    <tr>\n",
       "      <th>2</th>\n",
       "      <td>1994</td>\n",
       "      <td>JAN</td>\n",
       "      <td>167518.0</td>\n",
       "      <td>01</td>\n",
       "    </tr>\n",
       "    <tr>\n",
       "      <th>3</th>\n",
       "      <td>1995</td>\n",
       "      <td>JAN</td>\n",
       "      <td>182413.0</td>\n",
       "      <td>01</td>\n",
       "    </tr>\n",
       "    <tr>\n",
       "      <th>4</th>\n",
       "      <td>1996</td>\n",
       "      <td>JAN</td>\n",
       "      <td>189135.0</td>\n",
       "      <td>01</td>\n",
       "    </tr>\n",
       "    <tr>\n",
       "      <th>...</th>\n",
       "      <td>...</td>\n",
       "      <td>...</td>\n",
       "      <td>...</td>\n",
       "      <td>...</td>\n",
       "    </tr>\n",
       "    <tr>\n",
       "      <th>355</th>\n",
       "      <td>2017</td>\n",
       "      <td>DEC</td>\n",
       "      <td>433282.0</td>\n",
       "      <td>12</td>\n",
       "    </tr>\n",
       "    <tr>\n",
       "      <th>356</th>\n",
       "      <td>2018</td>\n",
       "      <td>DEC</td>\n",
       "      <td>434803.0</td>\n",
       "      <td>12</td>\n",
       "    </tr>\n",
       "    <tr>\n",
       "      <th>357</th>\n",
       "      <td>2019</td>\n",
       "      <td>DEC</td>\n",
       "      <td>458055.0</td>\n",
       "      <td>12</td>\n",
       "    </tr>\n",
       "    <tr>\n",
       "      <th>358</th>\n",
       "      <td>2020</td>\n",
       "      <td>DEC</td>\n",
       "      <td>484782.0</td>\n",
       "      <td>12</td>\n",
       "    </tr>\n",
       "    <tr>\n",
       "      <th>359</th>\n",
       "      <td>2021</td>\n",
       "      <td>DEC</td>\n",
       "      <td>NaN</td>\n",
       "      <td>12</td>\n",
       "    </tr>\n",
       "  </tbody>\n",
       "</table>\n",
       "<p>360 rows × 4 columns</p>\n",
       "</div>"
      ],
      "text/plain": [
       "     YEAR Month     Value month_num\n",
       "0    1992   JAN  146925.0        01\n",
       "1    1993   JAN  157555.0        01\n",
       "2    1994   JAN  167518.0        01\n",
       "3    1995   JAN  182413.0        01\n",
       "4    1996   JAN  189135.0        01\n",
       "..    ...   ...       ...       ...\n",
       "355  2017   DEC  433282.0        12\n",
       "356  2018   DEC  434803.0        12\n",
       "357  2019   DEC  458055.0        12\n",
       "358  2020   DEC  484782.0        12\n",
       "359  2021   DEC       NaN        12\n",
       "\n",
       "[360 rows x 4 columns]"
      ]
     },
     "execution_count": 11,
     "metadata": {},
     "output_type": "execute_result"
    }
   ],
   "source": [
    "# Keeping two digits for month number and stripping third digit if present\n",
    "# us_rtl_sales_df['month_num'] = us_rtl_sales_df.month_num[:-1]\n",
    "us_rtl_sales_df['month_num'] = us_rtl_sales_df['month_num'].str.strip().str[-2:]\n",
    "us_rtl_sales_df"
   ]
  },
  {
   "cell_type": "code",
   "execution_count": 12,
   "id": "01301755",
   "metadata": {},
   "outputs": [
    {
     "data": {
      "text/html": [
       "<div>\n",
       "<style scoped>\n",
       "    .dataframe tbody tr th:only-of-type {\n",
       "        vertical-align: middle;\n",
       "    }\n",
       "\n",
       "    .dataframe tbody tr th {\n",
       "        vertical-align: top;\n",
       "    }\n",
       "\n",
       "    .dataframe thead th {\n",
       "        text-align: right;\n",
       "    }\n",
       "</style>\n",
       "<table border=\"1\" class=\"dataframe\">\n",
       "  <thead>\n",
       "    <tr style=\"text-align: right;\">\n",
       "      <th></th>\n",
       "      <th>YEAR</th>\n",
       "      <th>Month</th>\n",
       "      <th>Value</th>\n",
       "      <th>month_num</th>\n",
       "      <th>Date</th>\n",
       "    </tr>\n",
       "  </thead>\n",
       "  <tbody>\n",
       "    <tr>\n",
       "      <th>0</th>\n",
       "      <td>1992</td>\n",
       "      <td>JAN</td>\n",
       "      <td>146925.0</td>\n",
       "      <td>01</td>\n",
       "      <td>1992-01-01</td>\n",
       "    </tr>\n",
       "    <tr>\n",
       "      <th>1</th>\n",
       "      <td>1993</td>\n",
       "      <td>JAN</td>\n",
       "      <td>157555.0</td>\n",
       "      <td>01</td>\n",
       "      <td>1993-01-01</td>\n",
       "    </tr>\n",
       "    <tr>\n",
       "      <th>2</th>\n",
       "      <td>1994</td>\n",
       "      <td>JAN</td>\n",
       "      <td>167518.0</td>\n",
       "      <td>01</td>\n",
       "      <td>1994-01-01</td>\n",
       "    </tr>\n",
       "    <tr>\n",
       "      <th>3</th>\n",
       "      <td>1995</td>\n",
       "      <td>JAN</td>\n",
       "      <td>182413.0</td>\n",
       "      <td>01</td>\n",
       "      <td>1995-01-01</td>\n",
       "    </tr>\n",
       "    <tr>\n",
       "      <th>4</th>\n",
       "      <td>1996</td>\n",
       "      <td>JAN</td>\n",
       "      <td>189135.0</td>\n",
       "      <td>01</td>\n",
       "      <td>1996-01-01</td>\n",
       "    </tr>\n",
       "    <tr>\n",
       "      <th>...</th>\n",
       "      <td>...</td>\n",
       "      <td>...</td>\n",
       "      <td>...</td>\n",
       "      <td>...</td>\n",
       "      <td>...</td>\n",
       "    </tr>\n",
       "    <tr>\n",
       "      <th>355</th>\n",
       "      <td>2017</td>\n",
       "      <td>DEC</td>\n",
       "      <td>433282.0</td>\n",
       "      <td>12</td>\n",
       "      <td>2017-12-01</td>\n",
       "    </tr>\n",
       "    <tr>\n",
       "      <th>356</th>\n",
       "      <td>2018</td>\n",
       "      <td>DEC</td>\n",
       "      <td>434803.0</td>\n",
       "      <td>12</td>\n",
       "      <td>2018-12-01</td>\n",
       "    </tr>\n",
       "    <tr>\n",
       "      <th>357</th>\n",
       "      <td>2019</td>\n",
       "      <td>DEC</td>\n",
       "      <td>458055.0</td>\n",
       "      <td>12</td>\n",
       "      <td>2019-12-01</td>\n",
       "    </tr>\n",
       "    <tr>\n",
       "      <th>358</th>\n",
       "      <td>2020</td>\n",
       "      <td>DEC</td>\n",
       "      <td>484782.0</td>\n",
       "      <td>12</td>\n",
       "      <td>2020-12-01</td>\n",
       "    </tr>\n",
       "    <tr>\n",
       "      <th>359</th>\n",
       "      <td>2021</td>\n",
       "      <td>DEC</td>\n",
       "      <td>NaN</td>\n",
       "      <td>12</td>\n",
       "      <td>2021-12-01</td>\n",
       "    </tr>\n",
       "  </tbody>\n",
       "</table>\n",
       "<p>360 rows × 5 columns</p>\n",
       "</div>"
      ],
      "text/plain": [
       "     YEAR Month     Value month_num        Date\n",
       "0    1992   JAN  146925.0        01  1992-01-01\n",
       "1    1993   JAN  157555.0        01  1993-01-01\n",
       "2    1994   JAN  167518.0        01  1994-01-01\n",
       "3    1995   JAN  182413.0        01  1995-01-01\n",
       "4    1996   JAN  189135.0        01  1996-01-01\n",
       "..    ...   ...       ...       ...         ...\n",
       "355  2017   DEC  433282.0        12  2017-12-01\n",
       "356  2018   DEC  434803.0        12  2018-12-01\n",
       "357  2019   DEC  458055.0        12  2019-12-01\n",
       "358  2020   DEC  484782.0        12  2020-12-01\n",
       "359  2021   DEC       NaN        12  2021-12-01\n",
       "\n",
       "[360 rows x 5 columns]"
      ]
     },
     "execution_count": 12,
     "metadata": {},
     "output_type": "execute_result"
    }
   ],
   "source": [
    "# Creating a column Date\n",
    "us_rtl_sales_df['Date'] = us_rtl_sales_df['YEAR'].astype(str)  + '-'  + us_rtl_sales_df['month_num'] + '-01'\n",
    "us_rtl_sales_df"
   ]
  },
  {
   "cell_type": "code",
   "execution_count": 13,
   "id": "e458b592",
   "metadata": {},
   "outputs": [
    {
     "name": "stdout",
     "output_type": "stream",
     "text": [
      "<class 'str'>\n",
      "     YEAR Month     Value month_num       Date\n",
      "0    1992   JAN  146925.0        01 1992-01-01\n",
      "30   1992   FEB  147223.0        02 1992-02-01\n",
      "60   1992   MAR  146805.0        03 1992-03-01\n",
      "90   1992   APR  148032.0        04 1992-04-01\n",
      "120  1992   MAY  149010.0        05 1992-05-01\n",
      "..    ...   ...       ...       ...        ...\n",
      "239  2021   AUG       NaN        08 2021-08-01\n",
      "269  2021   SEP       NaN        09 2021-09-01\n",
      "299  2021   OCT       NaN        10 2021-10-01\n",
      "329  2021   NOV       NaN        11 2021-11-01\n",
      "359  2021   DEC       NaN        12 2021-12-01\n",
      "\n",
      "[360 rows x 5 columns]\n",
      "<class 'pandas._libs.tslibs.timestamps.Timestamp'>\n"
     ]
    }
   ],
   "source": [
    "#sort by date\n",
    "\n",
    "print(type(us_rtl_sales_df.Date[0]))\n",
    "# convert to date\n",
    "us_rtl_sales_df['Date'] = pd.to_datetime(us_rtl_sales_df['Date'], format='%Y-%m-%d')\n",
    "us_rtl_sales_df = us_rtl_sales_df.sort_values(by='Date')\n",
    "print(us_rtl_sales_df)\n",
    "print(type(us_rtl_sales_df.Date[0]))"
   ]
  },
  {
   "cell_type": "code",
   "execution_count": 14,
   "id": "877991c9",
   "metadata": {},
   "outputs": [
    {
     "name": "stdout",
     "output_type": "stream",
     "text": [
      "        Value       Date\n",
      "0    146925.0 1992-01-01\n",
      "30   147223.0 1992-02-01\n",
      "60   146805.0 1992-03-01\n",
      "90   148032.0 1992-04-01\n",
      "120  149010.0 1992-05-01\n",
      "..        ...        ...\n",
      "239       NaN 2021-08-01\n",
      "269       NaN 2021-09-01\n",
      "299       NaN 2021-10-01\n",
      "329       NaN 2021-11-01\n",
      "359       NaN 2021-12-01\n",
      "\n",
      "[360 rows x 2 columns]\n",
      "        Value       Date\n",
      "0    146925.0 1992-01-01\n",
      "30   147223.0 1992-02-01\n",
      "60   146805.0 1992-03-01\n",
      "90   148032.0 1992-04-01\n",
      "120  149010.0 1992-05-01\n",
      "..        ...        ...\n",
      "59   504458.0 2021-02-01\n",
      "89   559871.0 2021-03-01\n",
      "119  562269.0 2021-04-01\n",
      "149  548987.0 2021-05-01\n",
      "179  550782.0 2021-06-01\n",
      "\n",
      "[354 rows x 2 columns]\n",
      "Value    0\n",
      "Date     0\n",
      "dtype: int64\n"
     ]
    },
    {
     "name": "stderr",
     "output_type": "stream",
     "text": [
      "C:\\Users\\Akila\\AppData\\Local\\Temp\\ipykernel_31620\\138177490.py:2: FutureWarning: In a future version of pandas all arguments of DataFrame.drop except for the argument 'labels' will be keyword-only.\n",
      "  us_rtl_sales_df=us_rtl_sales_df.drop(['YEAR','Month','month_num'],1)\n"
     ]
    }
   ],
   "source": [
    "# Keeping the created date column and dropping year, month and month_num\n",
    "us_rtl_sales_df=us_rtl_sales_df.drop(['YEAR','Month','month_num'],1)\n",
    "print(us_rtl_sales_df)\n",
    "us_rtl_sales_df=us_rtl_sales_df.dropna()\n",
    "print(us_rtl_sales_df)\n",
    "print(us_rtl_sales_df.isna().sum())"
   ]
  },
  {
   "cell_type": "code",
   "execution_count": 15,
   "id": "a7bea984",
   "metadata": {},
   "outputs": [
    {
     "data": {
      "text/html": [
       "<div>\n",
       "<style scoped>\n",
       "    .dataframe tbody tr th:only-of-type {\n",
       "        vertical-align: middle;\n",
       "    }\n",
       "\n",
       "    .dataframe tbody tr th {\n",
       "        vertical-align: top;\n",
       "    }\n",
       "\n",
       "    .dataframe thead th {\n",
       "        text-align: right;\n",
       "    }\n",
       "</style>\n",
       "<table border=\"1\" class=\"dataframe\">\n",
       "  <thead>\n",
       "    <tr style=\"text-align: right;\">\n",
       "      <th></th>\n",
       "      <th>Value</th>\n",
       "    </tr>\n",
       "    <tr>\n",
       "      <th>Date</th>\n",
       "      <th></th>\n",
       "    </tr>\n",
       "  </thead>\n",
       "  <tbody>\n",
       "    <tr>\n",
       "      <th>1992-01-01</th>\n",
       "      <td>146925.0</td>\n",
       "    </tr>\n",
       "    <tr>\n",
       "      <th>1992-02-01</th>\n",
       "      <td>147223.0</td>\n",
       "    </tr>\n",
       "    <tr>\n",
       "      <th>1992-03-01</th>\n",
       "      <td>146805.0</td>\n",
       "    </tr>\n",
       "    <tr>\n",
       "      <th>1992-04-01</th>\n",
       "      <td>148032.0</td>\n",
       "    </tr>\n",
       "    <tr>\n",
       "      <th>1992-05-01</th>\n",
       "      <td>149010.0</td>\n",
       "    </tr>\n",
       "  </tbody>\n",
       "</table>\n",
       "</div>"
      ],
      "text/plain": [
       "               Value\n",
       "Date                \n",
       "1992-01-01  146925.0\n",
       "1992-02-01  147223.0\n",
       "1992-03-01  146805.0\n",
       "1992-04-01  148032.0\n",
       "1992-05-01  149010.0"
      ]
     },
     "execution_count": 15,
     "metadata": {},
     "output_type": "execute_result"
    }
   ],
   "source": [
    "# Converting date into index\n",
    "us_rtl_sales_df.index = pd.to_datetime(us_rtl_sales_df['Date'])\n",
    "us_rtl_sales_df.drop(columns='Date',inplace=True)\n",
    "us_rtl_sales_df.head()"
   ]
  },
  {
   "cell_type": "code",
   "execution_count": 16,
   "id": "f87dc03a",
   "metadata": {},
   "outputs": [
    {
     "data": {
      "text/plain": [
       "<AxesSubplot:xlabel='Date'>"
      ]
     },
     "execution_count": 16,
     "metadata": {},
     "output_type": "execute_result"
    },
    {
     "data": {
      "image/png": "[encoded data removed]",
      "text/plain": [
       "<Figure size 432x288 with 1 Axes>"
      ]
     },
     "metadata": {
      "needs_background": "light"
     },
     "output_type": "display_data"
    }
   ],
   "source": [
    "# Plotting the sales data\n",
    "us_rtl_sales_df.plot()"
   ]
  },
  {
   "cell_type": "code",
   "execution_count": 17,
   "id": "06c8e045",
   "metadata": {},
   "outputs": [
    {
     "data": {
      "text/plain": [
       "<function matplotlib.pyplot.plot(*args, scalex=True, scaley=True, data=None, **kwargs)>"
      ]
     },
     "execution_count": 17,
     "metadata": {},
     "output_type": "execute_result"
    },
    {
     "data": {
      "image/png": "[encoded data removed]",
      "text/plain": [
       "<Figure size 432x288 with 1 Axes>"
      ]
     },
     "metadata": {
      "needs_background": "light"
     },
     "output_type": "display_data"
    }
   ],
   "source": [
    "plt.ylabel('Value')\n",
    "plt.xlabel('Yr_Mon')\n",
    "plt.xticks(rotation=45)\n",
    "plt.plot(us_rtl_sales_df.index, us_rtl_sales_df['Value'], )\n",
    "plt.plot"
   ]
  },
  {
   "cell_type": "markdown",
   "id": "9728d849",
   "metadata": {},
   "source": [
    "Above graph shows the plot of sales over the timeframe. From the graph, we can say that sales increasingly exponentially over the timeframe.However, in the year 2020, during covid, the sales went down and then went up."
   ]
  },
  {
   "cell_type": "code",
   "execution_count": 18,
   "id": "542a1a35",
   "metadata": {},
   "outputs": [
    {
     "data": {
      "text/plain": [
       "Date\n",
       "1992-01-01    146925.0\n",
       "1992-02-01    147223.0\n",
       "1992-03-01    146805.0\n",
       "1992-04-01    148032.0\n",
       "1992-05-01    149010.0\n",
       "1992-06-01    149800.0\n",
       "1992-07-01    150761.0\n",
       "1992-08-01    151067.0\n",
       "1992-09-01    152588.0\n",
       "1992-10-01    153521.0\n",
       "Name: Value, dtype: float64"
      ]
     },
     "execution_count": 18,
     "metadata": {},
     "output_type": "execute_result"
    }
   ],
   "source": [
    "#convert to time series:\n",
    "ts = us_rtl_sales_df['Value']\n",
    "ts.head(10)"
   ]
  },
  {
   "cell_type": "code",
   "execution_count": 19,
   "id": "6570eaac",
   "metadata": {},
   "outputs": [
    {
     "data": {
      "text/plain": [
       "[<matplotlib.lines.Line2D at 0x1a346fc12b0>]"
      ]
     },
     "execution_count": 19,
     "metadata": {},
     "output_type": "execute_result"
    },
    {
     "data": {
      "image/png": "[encoded data removed]",
      "text/plain": [
       "<Figure size 432x288 with 1 Axes>"
      ]
     },
     "metadata": {
      "needs_background": "light"
     },
     "output_type": "display_data"
    }
   ],
   "source": [
    "ts_log=np.log(ts)\n",
    "plt.plot(ts_log)"
   ]
  },
  {
   "cell_type": "code",
   "execution_count": 20,
   "id": "c447003a",
   "metadata": {},
   "outputs": [
    {
     "data": {
      "text/plain": [
       "[<matplotlib.lines.Line2D at 0x1a347057f70>]"
      ]
     },
     "execution_count": 20,
     "metadata": {},
     "output_type": "execute_result"
    },
    {
     "data": {
      "image/png": "[encoded data removed]",
      "text/plain": [
       "<Figure size 432x288 with 1 Axes>"
      ]
     },
     "metadata": {
      "needs_background": "light"
     },
     "output_type": "display_data"
    }
   ],
   "source": [
    "# Moving average\n",
    "# moving_avg = pd.rolling_mean(ts_log,12)\n",
    "moving_avg = ts_log.rolling(window=12).mean()\n",
    "rolstd = ts_log.rolling(window=12).std()\n",
    "plt.plot(ts_log)\n",
    "plt.plot(moving_avg,color='red')"
   ]
  },
  {
   "cell_type": "markdown",
   "id": "6d2e3cdc",
   "metadata": {},
   "source": [
    "Above graph shows the plot of moving average. Graph is not broken which shows that there is no missing values."
   ]
  },
  {
   "cell_type": "code",
   "execution_count": 21,
   "id": "84cf9e33",
   "metadata": {},
   "outputs": [
    {
     "data": {
      "image/png": "[encoded data removed]",
      "text/plain": [
       "<Figure size 432x288 with 4 Axes>"
      ]
     },
     "metadata": {
      "needs_background": "light"
     },
     "output_type": "display_data"
    }
   ],
   "source": [
    "# Decomposing the time series\n",
    "from statsmodels.tsa.seasonal import seasonal_decompose\n",
    "decompose_data = seasonal_decompose(us_rtl_sales_df, model=\"additive\")\n",
    "decompose_data.plot();"
   ]
  },
  {
   "cell_type": "code",
   "execution_count": 22,
   "id": "3248a9e6",
   "metadata": {},
   "outputs": [
    {
     "data": {
      "text/plain": [
       "<AxesSubplot:xlabel='Date'>"
      ]
     },
     "execution_count": 22,
     "metadata": {},
     "output_type": "execute_result"
    },
    {
     "data": {
      "image/png": "[encoded data removed]",
      "text/plain": [
       "<Figure size 432x288 with 1 Axes>"
      ]
     },
     "metadata": {
      "needs_background": "light"
     },
     "output_type": "display_data"
    }
   ],
   "source": [
    "seasonality=decompose_data.seasonal\n",
    "seasonality.plot(color='green')"
   ]
  },
  {
   "cell_type": "markdown",
   "id": "a2a33015",
   "metadata": {},
   "source": [
    "From the seasonal plot, we can say that sales goes up during particular season each year."
   ]
  },
  {
   "cell_type": "code",
   "execution_count": 23,
   "id": "49304168",
   "metadata": {},
   "outputs": [
    {
     "name": "stdout",
     "output_type": "stream",
     "text": [
      "train                Value\n",
      "Date                \n",
      "1992-01-01  146925.0\n",
      "1992-02-01  147223.0\n",
      "1992-03-01  146805.0\n",
      "1992-04-01  148032.0\n",
      "1992-05-01  149010.0\n",
      "...              ...\n",
      "2020-02-01  459610.0\n",
      "2020-03-01  434281.0\n",
      "2020-04-01  379892.0\n",
      "2020-05-01  444631.0\n",
      "2020-06-01  476343.0\n",
      "\n",
      "[342 rows x 1 columns]\n",
      "test                Value\n",
      "Date                \n",
      "2020-08-01  483716.0\n",
      "2020-09-01  493327.0\n",
      "2020-10-01  493991.0\n",
      "2020-11-01  488652.0\n",
      "2020-12-01  484782.0\n",
      "2021-01-01  520162.0\n",
      "2021-02-01  504458.0\n",
      "2021-03-01  559871.0\n",
      "2021-04-01  562269.0\n",
      "2021-05-01  548987.0\n",
      "2021-06-01  550782.0\n"
     ]
    }
   ],
   "source": [
    "train = us_rtl_sales_df[us_rtl_sales_df.index < '2020-07-01']\n",
    "test = us_rtl_sales_df[us_rtl_sales_df.index > '2020-07-01']\n",
    "print(\"train\",train)\n",
    "print(\"test\",test)"
   ]
  },
  {
   "cell_type": "code",
   "execution_count": 24,
   "id": "8e351571",
   "metadata": {},
   "outputs": [
    {
     "name": "stdout",
     "output_type": "stream",
     "text": [
      "train                Value\n",
      "Date                \n",
      "1992-01-01  146925.0\n",
      "1992-02-01  147223.0\n",
      "1992-03-01  146805.0\n",
      "1992-04-01  148032.0\n",
      "1992-05-01  149010.0\n",
      "...              ...\n",
      "2020-02-01  459610.0\n",
      "2020-03-01  434281.0\n",
      "2020-04-01  379892.0\n",
      "2020-05-01  444631.0\n",
      "2020-06-01  476343.0\n",
      "\n",
      "[342 rows x 1 columns]\n",
      "test                Value\n",
      "Date                \n",
      "2020-07-01  481627.0\n",
      "2020-08-01  483716.0\n",
      "2020-09-01  493327.0\n",
      "2020-10-01  493991.0\n",
      "2020-11-01  488652.0\n",
      "2020-12-01  484782.0\n",
      "2021-01-01  520162.0\n",
      "2021-02-01  504458.0\n",
      "2021-03-01  559871.0\n",
      "2021-04-01  562269.0\n",
      "2021-05-01  548987.0\n",
      "2021-06-01  550782.0\n"
     ]
    }
   ],
   "source": [
    "# Split this data into a training and test set. \n",
    "# Use the last year of data (July 2020 – June 2021) of data as your test set and the rest as your training set.\n",
    "train = us_rtl_sales_df[us_rtl_sales_df.index < pd.to_datetime(\"2020-07-01\", format='%Y-%m-%d')]\n",
    "test = us_rtl_sales_df[us_rtl_sales_df.index >= pd.to_datetime(\"2020-07-01\", format='%Y-%m-%d')]\n",
    "print(\"train\",train)\n",
    "print(\"test\",test)"
   ]
  },
  {
   "cell_type": "code",
   "execution_count": 25,
   "id": "f9015d8d",
   "metadata": {},
   "outputs": [
    {
     "data": {
      "image/png": "[encoded data removed]",
      "text/plain": [
       "<Figure size 432x288 with 1 Axes>"
      ]
     },
     "metadata": {
      "needs_background": "light"
     },
     "output_type": "display_data"
    }
   ],
   "source": [
    "#Plotting training and test sales data\n",
    "plt.plot(train, color = \"black\")\n",
    "plt.plot(test, color = \"red\")\n",
    "plt.ylabel('Sales Price')\n",
    "plt.xlabel('Date')\n",
    "plt.xticks(rotation=45)\n",
    "plt.title(\"Train/Test split for Sales Data\")\n",
    "plt.show()"
   ]
  },
  {
   "cell_type": "markdown",
   "id": "d9853ff9",
   "metadata": {},
   "source": [
    "# <span style='background :yellow' > Defining an ARMA model using the SARIMAX package </span>"
   ]
  },
  {
   "cell_type": "code",
   "execution_count": 26,
   "id": "fa9460d1",
   "metadata": {},
   "outputs": [],
   "source": [
    "# ARMA model\n",
    "from statsmodels.tsa.statespace.sarimax import SARIMAX"
   ]
  },
  {
   "cell_type": "code",
   "execution_count": 27,
   "id": "0e9be12f",
   "metadata": {},
   "outputs": [
    {
     "name": "stderr",
     "output_type": "stream",
     "text": [
      "C:\\Users\\Akila\\anaconda3\\lib\\site-packages\\statsmodels\\tsa\\base\\tsa_model.py:471: ValueWarning: No frequency information was provided, so inferred frequency MS will be used.\n",
      "  self._init_dates(dates, freq)\n",
      "C:\\Users\\Akila\\anaconda3\\lib\\site-packages\\statsmodels\\tsa\\base\\tsa_model.py:471: ValueWarning: No frequency information was provided, so inferred frequency MS will be used.\n",
      "  self._init_dates(dates, freq)\n",
      "C:\\Users\\Akila\\anaconda3\\lib\\site-packages\\statsmodels\\tsa\\statespace\\sarimax.py:966: UserWarning: Non-stationary starting autoregressive parameters found. Using zeros as starting parameters.\n",
      "  warn('Non-stationary starting autoregressive parameters'\n"
     ]
    },
    {
     "data": {
      "text/html": [
       "<table class=\"simpletable\">\n",
       "<caption>SARIMAX Results</caption>\n",
       "<tr>\n",
       "  <th>Dep. Variable:</th>         <td>Value</td>      <th>  No. Observations:  </th>    <td>342</td>   \n",
       "</tr>\n",
       "<tr>\n",
       "  <th>Model:</th>           <td>SARIMAX(1, 0, 1)</td> <th>  Log Likelihood     </th> <td>-3461.131</td>\n",
       "</tr>\n",
       "<tr>\n",
       "  <th>Date:</th>            <td>Wed, 19 Oct 2022</td> <th>  AIC                </th> <td>6928.261</td> \n",
       "</tr>\n",
       "<tr>\n",
       "  <th>Time:</th>                <td>21:15:08</td>     <th>  BIC                </th> <td>6939.765</td> \n",
       "</tr>\n",
       "<tr>\n",
       "  <th>Sample:</th>             <td>01-01-1992</td>    <th>  HQIC               </th> <td>6932.844</td> \n",
       "</tr>\n",
       "<tr>\n",
       "  <th></th>                   <td>- 06-01-2020</td>   <th>                     </th>     <td> </td>    \n",
       "</tr>\n",
       "<tr>\n",
       "  <th>Covariance Type:</th>        <td>opg</td>       <th>                     </th>     <td> </td>    \n",
       "</tr>\n",
       "</table>\n",
       "<table class=\"simpletable\">\n",
       "<tr>\n",
       "     <td></td>       <th>coef</th>     <th>std err</th>      <th>z</th>      <th>P>|z|</th>  <th>[0.025</th>    <th>0.975]</th>  \n",
       "</tr>\n",
       "<tr>\n",
       "  <th>ar.L1</th>  <td>    0.9999</td> <td>    0.000</td> <td> 3077.797</td> <td> 0.000</td> <td>    0.999</td> <td>    1.000</td>\n",
       "</tr>\n",
       "<tr>\n",
       "  <th>ma.L1</th>  <td>    0.0058</td> <td>    0.008</td> <td>    0.706</td> <td> 0.480</td> <td>   -0.010</td> <td>    0.022</td>\n",
       "</tr>\n",
       "<tr>\n",
       "  <th>sigma2</th> <td> 3.473e+07</td> <td> 5.63e-11</td> <td> 6.17e+17</td> <td> 0.000</td> <td> 3.47e+07</td> <td> 3.47e+07</td>\n",
       "</tr>\n",
       "</table>\n",
       "<table class=\"simpletable\">\n",
       "<tr>\n",
       "  <th>Ljung-Box (L1) (Q):</th>     <td>0.23</td>  <th>  Jarque-Bera (JB):  </th> <td>62399.17</td>\n",
       "</tr>\n",
       "<tr>\n",
       "  <th>Prob(Q):</th>                <td>0.63</td>  <th>  Prob(JB):          </th>   <td>0.00</td>  \n",
       "</tr>\n",
       "<tr>\n",
       "  <th>Heteroskedasticity (H):</th> <td>25.07</td> <th>  Skew:              </th>   <td>1.49</td>  \n",
       "</tr>\n",
       "<tr>\n",
       "  <th>Prob(H) (two-sided):</th>    <td>0.00</td>  <th>  Kurtosis:          </th>   <td>69.11</td> \n",
       "</tr>\n",
       "</table><br/><br/>Warnings:<br/>[1] Covariance matrix calculated using the outer product of gradients (complex-step).<br/>[2] Covariance matrix is singular or near-singular, with condition number 9.08e+32. Standard errors may be unstable."
      ],
      "text/plain": [
       "<class 'statsmodels.iolib.summary.Summary'>\n",
       "\"\"\"\n",
       "                               SARIMAX Results                                \n",
       "==============================================================================\n",
       "Dep. Variable:                  Value   No. Observations:                  342\n",
       "Model:               SARIMAX(1, 0, 1)   Log Likelihood               -3461.131\n",
       "Date:                Wed, 19 Oct 2022   AIC                           6928.261\n",
       "Time:                        21:15:08   BIC                           6939.765\n",
       "Sample:                    01-01-1992   HQIC                          6932.844\n",
       "                         - 06-01-2020                                         \n",
       "Covariance Type:                  opg                                         \n",
       "==============================================================================\n",
       "                 coef    std err          z      P>|z|      [0.025      0.975]\n",
       "------------------------------------------------------------------------------\n",
       "ar.L1          0.9999      0.000   3077.797      0.000       0.999       1.000\n",
       "ma.L1          0.0058      0.008      0.706      0.480      -0.010       0.022\n",
       "sigma2      3.473e+07   5.63e-11   6.17e+17      0.000    3.47e+07    3.47e+07\n",
       "===================================================================================\n",
       "Ljung-Box (L1) (Q):                   0.23   Jarque-Bera (JB):             62399.17\n",
       "Prob(Q):                              0.63   Prob(JB):                         0.00\n",
       "Heteroskedasticity (H):              25.07   Skew:                             1.49\n",
       "Prob(H) (two-sided):                  0.00   Kurtosis:                        69.11\n",
       "===================================================================================\n",
       "\n",
       "Warnings:\n",
       "[1] Covariance matrix calculated using the outer product of gradients (complex-step).\n",
       "[2] Covariance matrix is singular or near-singular, with condition number 9.08e+32. Standard errors may be unstable.\n",
       "\"\"\""
      ]
     },
     "execution_count": 27,
     "metadata": {},
     "output_type": "execute_result"
    }
   ],
   "source": [
    "# Using the training set to build a predictive model for the monthly retail sales.\n",
    "# define our input\n",
    "y = train['Value']\n",
    "# To define an ARMA model with the SARIMAX class, we pass in the order parameters of (1, 0 ,1)\n",
    "ARMAmodel = SARIMAX(y, order = (1, 0, 1))\n",
    "# fit our model\n",
    "ARMAmodel = ARMAmodel.fit()\n",
    "ARMAmodel.summary()"
   ]
  },
  {
   "cell_type": "code",
   "execution_count": 28,
   "id": "8533ece2",
   "metadata": {},
   "outputs": [],
   "source": [
    "# Generate our predictions\n",
    "y_pred = ARMAmodel.get_forecast(len(test.index))\n",
    "y_pred_df = y_pred.conf_int(alpha = 0.05) \n",
    "y_pred_df[\"Predictions\"] = ARMAmodel.predict(start = y_pred_df.index[0], end = y_pred_df.index[-1])\n",
    "y_pred_df.index = test.index\n",
    "y_pred_out = y_pred_df[\"Predictions\"] "
   ]
  },
  {
   "cell_type": "code",
   "execution_count": 29,
   "id": "3d6763e2",
   "metadata": {},
   "outputs": [
    {
     "data": {
      "text/plain": [
       "<matplotlib.legend.Legend at 0x1a348dadb20>"
      ]
     },
     "execution_count": 29,
     "metadata": {},
     "output_type": "execute_result"
    },
    {
     "data": {
      "image/png": "[encoded data removed]",
      "text/plain": [
       "<Figure size 432x288 with 1 Axes>"
      ]
     },
     "metadata": {
      "needs_background": "light"
     },
     "output_type": "display_data"
    }
   ],
   "source": [
    "# plot the results\n",
    "plt.plot(train, color = \"black\",label = 'Training')\n",
    "plt.plot(test, color = \"red\",label = 'Testing')\n",
    "plt.plot(y_pred_out, color='green', label = 'ARMA Predictions')\n",
    "plt.ylabel('Sales Price')\n",
    "plt.xlabel('Date')\n",
    "plt.xticks(rotation=45)\n",
    "plt.title(\"Train/Test split for Sales Data\")\n",
    "# plt.show()\n",
    "\n",
    "plt.legend()"
   ]
  },
  {
   "cell_type": "code",
   "execution_count": 30,
   "id": "02bb041a",
   "metadata": {},
   "outputs": [
    {
     "name": "stdout",
     "output_type": "stream",
     "text": [
      "RMSE:  49316.86837957215\n"
     ]
    }
   ],
   "source": [
    "# Report the RMSE of the model predictions on the test set\n",
    "# evaluate the performance using the root mean-squared error\n",
    "import numpy as np\n",
    "from sklearn.metrics import mean_squared_error\n",
    "\n",
    "arma_rmse = np.sqrt(mean_squared_error(test[\"Value\"].values, y_pred_df[\"Predictions\"]))\n",
    "print(\"RMSE: \",arma_rmse)"
   ]
  },
  {
   "cell_type": "markdown",
   "id": "a9f04c30",
   "metadata": {},
   "source": [
    "# <span style='background :yellow' > Predictions using ARIMA model </span> "
   ]
  },
  {
   "cell_type": "code",
   "execution_count": 31,
   "id": "92f53893",
   "metadata": {},
   "outputs": [],
   "source": [
    "from statsmodels.tsa.arima.model import ARIMA"
   ]
  },
  {
   "cell_type": "code",
   "execution_count": 32,
   "id": "76754d99",
   "metadata": {},
   "outputs": [
    {
     "name": "stderr",
     "output_type": "stream",
     "text": [
      "C:\\Users\\Akila\\anaconda3\\lib\\site-packages\\statsmodels\\tsa\\base\\tsa_model.py:471: ValueWarning: No frequency information was provided, so inferred frequency MS will be used.\n",
      "  self._init_dates(dates, freq)\n",
      "C:\\Users\\Akila\\anaconda3\\lib\\site-packages\\statsmodels\\tsa\\base\\tsa_model.py:471: ValueWarning: No frequency information was provided, so inferred frequency MS will be used.\n",
      "  self._init_dates(dates, freq)\n",
      "C:\\Users\\Akila\\anaconda3\\lib\\site-packages\\statsmodels\\tsa\\base\\tsa_model.py:471: ValueWarning: No frequency information was provided, so inferred frequency MS will be used.\n",
      "  self._init_dates(dates, freq)\n",
      "C:\\Users\\Akila\\anaconda3\\lib\\site-packages\\statsmodels\\tsa\\statespace\\sarimax.py:978: UserWarning: Non-invertible starting MA parameters found. Using zeros as starting parameters.\n",
      "  warn('Non-invertible starting MA parameters found.'\n"
     ]
    },
    {
     "name": "stdout",
     "output_type": "stream",
     "text": [
      "RMSE:  49316.86837957215\n"
     ]
    },
    {
     "data": {
      "image/png": "[encoded data removed]",
      "text/plain": [
       "<Figure size 432x288 with 1 Axes>"
      ]
     },
     "metadata": {
      "needs_background": "light"
     },
     "output_type": "display_data"
    }
   ],
   "source": [
    "ARIMAmodel = ARIMA(y, order = (2, 2, 2))\n",
    "ARIMAmodel = ARIMAmodel.fit()\n",
    "\n",
    "y_pred_ar = ARIMAmodel.get_forecast(len(test.index))\n",
    "y_pred_df_ar = y_pred_ar.conf_int(alpha = 0.05) \n",
    "y_pred_df_ar[\"Predictions\"] = ARIMAmodel.predict(start = y_pred_df_ar.index[0], end = y_pred_df_ar.index[-1])\n",
    "y_pred_df_ar.index = test.index\n",
    "y_pred_out_ar = y_pred_df_ar[\"Predictions\"] \n",
    "\n",
    "\n",
    "plt.plot(train, color = \"black\",label = 'Training')\n",
    "plt.plot(test, color = \"red\",label = 'Testing')\n",
    "plt.plot(y_pred_out, color='green', label = 'ARMA Predictions')\n",
    "plt.plot(y_pred_out_ar, color='Blue', label = 'ARIMA Predictions')\n",
    "plt.ylabel('Sales Price')\n",
    "plt.xlabel('Date')\n",
    "plt.xticks(rotation=45)\n",
    "plt.title(\"Train/Test split for Sales Data\")\n",
    "plt.legend()\n",
    "\n",
    "\n",
    "arma_rmse = np.sqrt(mean_squared_error(test[\"Value\"].values, y_pred_df[\"Predictions\"]))\n",
    "print(\"RMSE: \",arma_rmse)"
   ]
  },
  {
   "cell_type": "markdown",
   "id": "d2dab598",
   "metadata": {},
   "source": [
    "Increasing the differencing parameter to ARIMA (2,3,2)"
   ]
  },
  {
   "cell_type": "code",
   "execution_count": 33,
   "id": "cd63bff0",
   "metadata": {},
   "outputs": [
    {
     "name": "stderr",
     "output_type": "stream",
     "text": [
      "C:\\Users\\Akila\\anaconda3\\lib\\site-packages\\statsmodels\\tsa\\base\\tsa_model.py:471: ValueWarning: No frequency information was provided, so inferred frequency MS will be used.\n",
      "  self._init_dates(dates, freq)\n",
      "C:\\Users\\Akila\\anaconda3\\lib\\site-packages\\statsmodels\\tsa\\base\\tsa_model.py:471: ValueWarning: No frequency information was provided, so inferred frequency MS will be used.\n",
      "  self._init_dates(dates, freq)\n",
      "C:\\Users\\Akila\\anaconda3\\lib\\site-packages\\statsmodels\\tsa\\base\\tsa_model.py:471: ValueWarning: No frequency information was provided, so inferred frequency MS will be used.\n",
      "  self._init_dates(dates, freq)\n",
      "C:\\Users\\Akila\\anaconda3\\lib\\site-packages\\statsmodels\\tsa\\statespace\\sarimax.py:978: UserWarning: Non-invertible starting MA parameters found. Using zeros as starting parameters.\n",
      "  warn('Non-invertible starting MA parameters found.'\n"
     ]
    },
    {
     "name": "stdout",
     "output_type": "stream",
     "text": [
      "RMSE:  49316.86837957215\n"
     ]
    },
    {
     "name": "stderr",
     "output_type": "stream",
     "text": [
      "C:\\Users\\Akila\\anaconda3\\lib\\site-packages\\statsmodels\\base\\model.py:604: ConvergenceWarning: Maximum Likelihood optimization failed to converge. Check mle_retvals\n",
      "  warnings.warn(\"Maximum Likelihood optimization failed to \"\n"
     ]
    },
    {
     "data": {
      "image/png": "[encoded data removed]",
      "text/plain": [
       "<Figure size 432x288 with 1 Axes>"
      ]
     },
     "metadata": {
      "needs_background": "light"
     },
     "output_type": "display_data"
    }
   ],
   "source": [
    "ARIMAmodel = ARIMA(y, order = (2, 3, 2))\n",
    "ARIMAmodel = ARIMAmodel.fit()\n",
    "\n",
    "y_pred_ar = ARIMAmodel.get_forecast(len(test.index))\n",
    "y_pred_df_ar = y_pred_ar.conf_int(alpha = 0.05) \n",
    "y_pred_df_ar[\"Predictions\"] = ARIMAmodel.predict(start = y_pred_df_ar.index[0], end = y_pred_df_ar.index[-1])\n",
    "y_pred_df_ar.index = test.index\n",
    "y_pred_out_ar = y_pred_df_ar[\"Predictions\"] \n",
    "\n",
    "\n",
    "plt.plot(train, color = \"black\",label = 'Training')\n",
    "plt.plot(test, color = \"red\",label = 'Testing')\n",
    "plt.plot(y_pred_out, color='green', label = 'ARMA Predictions')\n",
    "plt.plot(y_pred_out_ar, color='Blue', label = 'ARIMA Predictions')\n",
    "plt.ylabel('Sales Price')\n",
    "plt.xlabel('Date')\n",
    "plt.xticks(rotation=45)\n",
    "plt.title(\"Train/Test split for Sales Data\")\n",
    "plt.legend()\n",
    "\n",
    "\n",
    "arma_rmse = np.sqrt(mean_squared_error(test[\"Value\"].values, y_pred_df[\"Predictions\"]))\n",
    "print(\"RMSE: \",arma_rmse)"
   ]
  },
  {
   "cell_type": "markdown",
   "id": "dc8de57f",
   "metadata": {},
   "source": [
    "Increasing the differencing parameter to ARIMA (5,4,2)"
   ]
  },
  {
   "cell_type": "code",
   "execution_count": 34,
   "id": "c819d89c",
   "metadata": {},
   "outputs": [
    {
     "name": "stderr",
     "output_type": "stream",
     "text": [
      "C:\\Users\\Akila\\anaconda3\\lib\\site-packages\\statsmodels\\tsa\\base\\tsa_model.py:471: ValueWarning: No frequency information was provided, so inferred frequency MS will be used.\n",
      "  self._init_dates(dates, freq)\n",
      "C:\\Users\\Akila\\anaconda3\\lib\\site-packages\\statsmodels\\tsa\\base\\tsa_model.py:471: ValueWarning: No frequency information was provided, so inferred frequency MS will be used.\n",
      "  self._init_dates(dates, freq)\n",
      "C:\\Users\\Akila\\anaconda3\\lib\\site-packages\\statsmodels\\tsa\\base\\tsa_model.py:471: ValueWarning: No frequency information was provided, so inferred frequency MS will be used.\n",
      "  self._init_dates(dates, freq)\n",
      "C:\\Users\\Akila\\anaconda3\\lib\\site-packages\\statsmodels\\tsa\\statespace\\sarimax.py:978: UserWarning: Non-invertible starting MA parameters found. Using zeros as starting parameters.\n",
      "  warn('Non-invertible starting MA parameters found.'\n"
     ]
    },
    {
     "name": "stdout",
     "output_type": "stream",
     "text": [
      "Date\n",
      "2020-07-01    489690.004456\n",
      "2020-08-01    496435.135164\n",
      "2020-09-01    500377.549401\n",
      "2020-10-01    503218.923190\n",
      "2020-11-01    505622.191351\n",
      "2020-12-01    507860.586052\n",
      "2021-01-01    510044.126489\n",
      "2021-02-01    512217.538038\n",
      "2021-03-01    514398.931282\n",
      "2021-04-01    516595.651562\n",
      "2021-05-01    518810.676050\n",
      "2021-06-01    521045.211760\n",
      "Name: Predictions, dtype: float64\n",
      "RMSE:  49316.86837957215\n"
     ]
    },
    {
     "name": "stderr",
     "output_type": "stream",
     "text": [
      "C:\\Users\\Akila\\anaconda3\\lib\\site-packages\\statsmodels\\base\\model.py:604: ConvergenceWarning: Maximum Likelihood optimization failed to converge. Check mle_retvals\n",
      "  warnings.warn(\"Maximum Likelihood optimization failed to \"\n"
     ]
    },
    {
     "data": {
      "image/png": "[encoded data removed]",
      "text/plain": [
       "<Figure size 432x288 with 1 Axes>"
      ]
     },
     "metadata": {
      "needs_background": "light"
     },
     "output_type": "display_data"
    }
   ],
   "source": [
    "ARIMAmodel = ARIMA(y, order = (2, 3, 2))\n",
    "ARIMAmodel = ARIMAmodel.fit()\n",
    "\n",
    "y_pred_ar = ARIMAmodel.get_forecast(len(test.index))\n",
    "y_pred_df_ar = y_pred_ar.conf_int(alpha = 0.05) \n",
    "y_pred_df_ar[\"Predictions\"] = ARIMAmodel.predict(start = y_pred_df_ar.index[0], end = y_pred_df_ar.index[-1])\n",
    "y_pred_df_ar.index = test.index\n",
    "y_pred_out_ar = y_pred_df_ar[\"Predictions\"] \n",
    "print(y_pred_out_ar)\n",
    "\n",
    "plt.plot(train, color = \"black\",label = 'Training')\n",
    "plt.plot(test, color = \"red\",label = 'Testing')\n",
    "plt.plot(y_pred_out, color='green', label = 'ARMA Predictions')\n",
    "plt.plot(y_pred_out_ar, color='Blue', label = 'ARIMA Predictions')\n",
    "plt.ylabel('Sales Price')\n",
    "plt.xlabel('Date')\n",
    "plt.xticks(rotation=45)\n",
    "plt.title(\"Train/Test split for Sales Data\")\n",
    "plt.legend()\n",
    "\n",
    "\n",
    "arma_rmse = np.sqrt(mean_squared_error(test[\"Value\"].values, y_pred_df[\"Predictions\"]))\n",
    "print(\"RMSE: \",arma_rmse)"
   ]
  },
  {
   "cell_type": "markdown",
   "id": "a7f7550f",
   "metadata": {},
   "source": [
    "# <span style='background :yellow' > Seasonal ARIMA (SARIMA) </span> "
   ]
  },
  {
   "cell_type": "code",
   "execution_count": 35,
   "id": "6a2328ae",
   "metadata": {},
   "outputs": [
    {
     "name": "stderr",
     "output_type": "stream",
     "text": [
      "C:\\Users\\Akila\\anaconda3\\lib\\site-packages\\statsmodels\\tsa\\base\\tsa_model.py:471: ValueWarning: No frequency information was provided, so inferred frequency MS will be used.\n",
      "  self._init_dates(dates, freq)\n",
      "C:\\Users\\Akila\\anaconda3\\lib\\site-packages\\statsmodels\\tsa\\base\\tsa_model.py:471: ValueWarning: No frequency information was provided, so inferred frequency MS will be used.\n",
      "  self._init_dates(dates, freq)\n",
      "C:\\Users\\Akila\\anaconda3\\lib\\site-packages\\statsmodels\\tsa\\statespace\\sarimax.py:978: UserWarning: Non-invertible starting MA parameters found. Using zeros as starting parameters.\n",
      "  warn('Non-invertible starting MA parameters found.'\n"
     ]
    },
    {
     "name": "stdout",
     "output_type": "stream",
     "text": [
      "Date\n",
      "2020-07-01    471192.213067\n",
      "2020-08-01    475038.598521\n",
      "2020-09-01    483893.531781\n",
      "2020-10-01    494492.126927\n",
      "2020-11-01    515296.104814\n",
      "2020-12-01    533696.380090\n",
      "2021-01-01    549419.449951\n",
      "2021-02-01    564300.826782\n",
      "2021-03-01    567598.368066\n",
      "2021-04-01    552733.947530\n",
      "2021-05-01    615394.016589\n",
      "2021-06-01    658004.412803\n",
      "Name: Predictions, dtype: float64\n"
     ]
    },
    {
     "name": "stderr",
     "output_type": "stream",
     "text": [
      "C:\\Users\\Akila\\anaconda3\\lib\\site-packages\\statsmodels\\base\\model.py:604: ConvergenceWarning: Maximum Likelihood optimization failed to converge. Check mle_retvals\n",
      "  warnings.warn(\"Maximum Likelihood optimization failed to \"\n"
     ]
    },
    {
     "data": {
      "text/plain": [
       "<matplotlib.legend.Legend at 0x1a34f1671f0>"
      ]
     },
     "execution_count": 35,
     "metadata": {},
     "output_type": "execute_result"
    },
    {
     "data": {
      "image/png": "[encoded data removed]",
      "text/plain": [
       "<Figure size 432x288 with 1 Axes>"
      ]
     },
     "metadata": {
      "needs_background": "light"
     },
     "output_type": "display_data"
    }
   ],
   "source": [
    "SARIMAXmodel = SARIMAX(y, order = (5, 4, 2), seasonal_order=(1,1,1,12))\n",
    "SARIMAXmodel = SARIMAXmodel.fit()\n",
    "\n",
    "y_pred_sa = SARIMAXmodel.get_forecast(len(test.index))\n",
    "y_pred_df_sa = y_pred_sa.conf_int(alpha = 0.05) \n",
    "y_pred_df_sa[\"Predictions\"] = SARIMAXmodel.predict(start = y_pred_df_sa.index[0], end = y_pred_df_sa.index[-1])\n",
    "y_pred_df_sa.index = test.index\n",
    "y_pred_out_sa = y_pred_df_sa[\"Predictions\"] \n",
    "print(y_pred_out_sa)\n",
    "\n",
    "\n",
    "\n",
    "plt.plot(train, color = \"black\",label = 'Training')\n",
    "plt.plot(test, color = \"red\",label = 'Testing')\n",
    "plt.plot(y_pred_out, color='green', label = 'ARMA Predictions')\n",
    "plt.plot(y_pred_out_ar, color='Blue', label = 'ARIMA Predictions')\n",
    "plt.plot(y_pred_out_sa, color='Yellow', label = 'SARIMA Predictions')\n",
    "plt.ylabel('Sales Price')\n",
    "plt.xlabel('Date')\n",
    "plt.xticks(rotation=45)\n",
    "plt.title(\"Train/Test split for Sales Data\")\n",
    "plt.legend()\n",
    "# plot(figsize=(12,8))\n"
   ]
  },
  {
   "cell_type": "code",
   "execution_count": 36,
   "id": "2992af64",
   "metadata": {},
   "outputs": [
    {
     "name": "stdout",
     "output_type": "stream",
     "text": [
      "RMSE:  44600.33428863\n"
     ]
    }
   ],
   "source": [
    "arma_rmse = np.sqrt(mean_squared_error(test[\"Value\"].values, y_pred_df_sa[\"Predictions\"]))\n",
    "print(\"RMSE: \",arma_rmse)"
   ]
  },
  {
   "cell_type": "markdown",
   "id": "1871a30d",
   "metadata": {},
   "source": [
    "From the different time series model and the plot we did, we can say that SARIMA predictions is better than other models."
   ]
  }
 ],
 "metadata": {
  "kernelspec": {
   "display_name": "Python 3 (ipykernel)",
   "language": "python",
   "name": "python3"
  },
  "language_info": {
   "codemirror_mode": {
    "name": "ipython",
    "version": 3
   },
   "file_extension": ".py",
   "mimetype": "text/x-python",
   "name": "python",
   "nbconvert_exporter": "python",
   "pygments_lexer": "ipython3",
   "version": "3.9.12"
  }
 },
 "nbformat": 4,
 "nbformat_minor": 5
}
